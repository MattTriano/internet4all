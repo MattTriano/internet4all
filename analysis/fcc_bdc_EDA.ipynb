{
 "cells": [
  {
   "cell_type": "code",
   "execution_count": 15,
   "id": "2950fbe5-0024-4afb-bc22-2fa68e986903",
   "metadata": {},
   "outputs": [],
   "source": [
    "from pathlib import Path\n",
    "from urllib.request import urlretrieve\n",
    "import zipfile\n",
    "\n",
    "import geopandas as gpd\n",
    "import pandas as pd\n",
    "import matplotlib.pyplot as plt"
   ]
  },
  {
   "cell_type": "code",
   "execution_count": 2,
   "id": "56ab327b-0b4f-4426-bb85-e7f2b55123f6",
   "metadata": {},
   "outputs": [],
   "source": [
    "pd.options.display.max_columns = None\n",
    "pd.options.display.max_colwidth = 150"
   ]
  },
  {
   "cell_type": "code",
   "execution_count": null,
   "id": "782b95e5-5dd7-4fde-b8f5-dda14f8ca045",
   "metadata": {},
   "outputs": [],
   "source": []
  },
  {
   "cell_type": "code",
   "execution_count": 3,
   "id": "d0149985-18e0-449c-8614-5ca88de27344",
   "metadata": {},
   "outputs": [],
   "source": [
    "DATA_DIR = Path(\"../data\").resolve()"
   ]
  },
  {
   "cell_type": "code",
   "execution_count": 4,
   "id": "63544508-e333-4d65-bff3-ba2a9d15873a",
   "metadata": {},
   "outputs": [
    {
     "data": {
      "text/plain": [
       "['bdc_17_FibertothePremises_fixed_broadband_J23_23jan2024.zip',\n",
       " 'bdc_17_Cable_fixed_broadband_J23_23jan2024.zip',\n",
       " '.ipynb_checkpoints']"
      ]
     },
     "execution_count": 4,
     "metadata": {},
     "output_type": "execute_result"
    }
   ],
   "source": [
    "[dp.name for dp in DATA_DIR.iterdir()]"
   ]
  },
  {
   "cell_type": "code",
   "execution_count": 16,
   "id": "13b71719-1ca4-472f-abaa-052300fb2704",
   "metadata": {},
   "outputs": [],
   "source": [
    "def read_zipped_csv(zip_file_path: Path, file_name: str) -> pd.DataFrame:\n",
    "    with zipfile.ZipFile(zip_file_path) as zip_ref:\n",
    "        with zip_ref.open(file_name) as f:\n",
    "            return pd.read_csv(f)\n",
    "\n",
    "def download_file(url: str, file_path: Path) -> None:\n",
    "    if not file_path.is_file():\n",
    "        urlretrieve(url=url, filename=file_path)"
   ]
  },
  {
   "cell_type": "code",
   "execution_count": 13,
   "id": "0a076cc9-45b9-4f07-938f-dc1b01f88957",
   "metadata": {},
   "outputs": [],
   "source": [
    "file_path = DATA_DIR.joinpath(\"bdc_17_FibertothePremises_fixed_broadband_J23_23jan2024.zip\")\n",
    "\n",
    "with zipfile.ZipFile(file_path) as zip_ref:\n",
    "    with zip_ref.open(file_path.name.replace(\".zip\", \".csv\")) as f:\n",
    "        bdc_fiber_df = pd.read_csv(f)"
   ]
  },
  {
   "cell_type": "code",
   "execution_count": 14,
   "id": "e987e574-9a1f-4a5e-b2a1-dacca8700407",
   "metadata": {},
   "outputs": [
    {
     "name": "stdout",
     "output_type": "stream",
     "text": [
      "(2178534, 12)\n"
     ]
    },
    {
     "data": {
      "text/html": [
       "<div>\n",
       "<style scoped>\n",
       "    .dataframe tbody tr th:only-of-type {\n",
       "        vertical-align: middle;\n",
       "    }\n",
       "\n",
       "    .dataframe tbody tr th {\n",
       "        vertical-align: top;\n",
       "    }\n",
       "\n",
       "    .dataframe thead th {\n",
       "        text-align: right;\n",
       "    }\n",
       "</style>\n",
       "<table border=\"1\" class=\"dataframe\">\n",
       "  <thead>\n",
       "    <tr style=\"text-align: right;\">\n",
       "      <th></th>\n",
       "      <th>frn</th>\n",
       "      <th>provider_id</th>\n",
       "      <th>brand_name</th>\n",
       "      <th>location_id</th>\n",
       "      <th>technology</th>\n",
       "      <th>max_advertised_download_speed</th>\n",
       "      <th>max_advertised_upload_speed</th>\n",
       "      <th>low_latency</th>\n",
       "      <th>business_residential_code</th>\n",
       "      <th>state_usps</th>\n",
       "      <th>block_geoid</th>\n",
       "      <th>h3_res8_id</th>\n",
       "    </tr>\n",
       "  </thead>\n",
       "  <tbody>\n",
       "    <tr>\n",
       "      <th>0</th>\n",
       "      <td>2860856</td>\n",
       "      <td>130077</td>\n",
       "      <td>AT&amp;T Inc</td>\n",
       "      <td>1015499874</td>\n",
       "      <td>50</td>\n",
       "      <td>5000</td>\n",
       "      <td>5000</td>\n",
       "      <td>1</td>\n",
       "      <td>X</td>\n",
       "      <td>IL</td>\n",
       "      <td>171978835043042</td>\n",
       "      <td>8826644eebfffff</td>\n",
       "    </tr>\n",
       "    <tr>\n",
       "      <th>1</th>\n",
       "      <td>2860856</td>\n",
       "      <td>130077</td>\n",
       "      <td>AT&amp;T Inc</td>\n",
       "      <td>1015570673</td>\n",
       "      <td>50</td>\n",
       "      <td>1000</td>\n",
       "      <td>1000</td>\n",
       "      <td>1</td>\n",
       "      <td>X</td>\n",
       "      <td>IL</td>\n",
       "      <td>171978810092011</td>\n",
       "      <td>8826644ac5fffff</td>\n",
       "    </tr>\n",
       "  </tbody>\n",
       "</table>\n",
       "</div>"
      ],
      "text/plain": [
       "       frn  provider_id brand_name  location_id  technology  \\\n",
       "0  2860856       130077   AT&T Inc   1015499874          50   \n",
       "1  2860856       130077   AT&T Inc   1015570673          50   \n",
       "\n",
       "   max_advertised_download_speed  max_advertised_upload_speed  low_latency  \\\n",
       "0                           5000                         5000            1   \n",
       "1                           1000                         1000            1   \n",
       "\n",
       "  business_residential_code state_usps      block_geoid       h3_res8_id  \n",
       "0                         X         IL  171978835043042  8826644eebfffff  \n",
       "1                         X         IL  171978810092011  8826644ac5fffff  "
      ]
     },
     "metadata": {},
     "output_type": "display_data"
    }
   ],
   "source": [
    "print(bdc_fiber_df.shape)\n",
    "display(bdc_fiber_df.head(2))"
   ]
  },
  {
   "cell_type": "code",
   "execution_count": 17,
   "id": "ac598935-7b0b-4080-8110-f7d9f3cf91d0",
   "metadata": {},
   "outputs": [],
   "source": [
    "block_group_file_path = DATA_DIR.joinpath(\"tl_2023_17_bg.zip\")\n",
    "download_file(\n",
    "    url=\"https://www2.census.gov/geo/tiger/TIGER2023/BG/tl_2023_17_bg.zip\",\n",
    "    file_path=block_group_file_path,\n",
    ")"
   ]
  },
  {
   "cell_type": "code",
   "execution_count": 18,
   "id": "6d127dec-a81c-4f61-9d34-a93414db3e2f",
   "metadata": {},
   "outputs": [
    {
     "name": "stderr",
     "output_type": "stream",
     "text": [
      "ERROR 1: PROJ: proj_create_from_database: Open of /home/matt/miniconda3/envs/geo_env/share/proj failed\n"
     ]
    }
   ],
   "source": [
    "bg_gdf = gpd.read_file(block_group_file_path)"
   ]
  },
  {
   "cell_type": "code",
   "execution_count": 19,
   "id": "5299cecd-3f9a-4f07-9fb2-7e4b3c407915",
   "metadata": {},
   "outputs": [
    {
     "name": "stdout",
     "output_type": "stream",
     "text": [
      "(9898, 14)\n"
     ]
    },
    {
     "data": {
      "text/html": [
       "<div>\n",
       "<style scoped>\n",
       "    .dataframe tbody tr th:only-of-type {\n",
       "        vertical-align: middle;\n",
       "    }\n",
       "\n",
       "    .dataframe tbody tr th {\n",
       "        vertical-align: top;\n",
       "    }\n",
       "\n",
       "    .dataframe thead th {\n",
       "        text-align: right;\n",
       "    }\n",
       "</style>\n",
       "<table border=\"1\" class=\"dataframe\">\n",
       "  <thead>\n",
       "    <tr style=\"text-align: right;\">\n",
       "      <th></th>\n",
       "      <th>STATEFP</th>\n",
       "      <th>COUNTYFP</th>\n",
       "      <th>TRACTCE</th>\n",
       "      <th>BLKGRPCE</th>\n",
       "      <th>GEOID</th>\n",
       "      <th>GEOIDFQ</th>\n",
       "      <th>NAMELSAD</th>\n",
       "      <th>MTFCC</th>\n",
       "      <th>FUNCSTAT</th>\n",
       "      <th>ALAND</th>\n",
       "      <th>AWATER</th>\n",
       "      <th>INTPTLAT</th>\n",
       "      <th>INTPTLON</th>\n",
       "      <th>geometry</th>\n",
       "    </tr>\n",
       "  </thead>\n",
       "  <tbody>\n",
       "    <tr>\n",
       "      <th>0</th>\n",
       "      <td>17</td>\n",
       "      <td>019</td>\n",
       "      <td>000800</td>\n",
       "      <td>1</td>\n",
       "      <td>170190008001</td>\n",
       "      <td>1500000US170190008001</td>\n",
       "      <td>Block Group 1</td>\n",
       "      <td>G5030</td>\n",
       "      <td>S</td>\n",
       "      <td>2551949</td>\n",
       "      <td>24</td>\n",
       "      <td>+40.1440140</td>\n",
       "      <td>-088.2485074</td>\n",
       "      <td>POLYGON ((-88.25801 40.14907, -88.25226 40.14911, -88.25202 40.14911, -88.25154 40.14915, -88.25105 40.14911, -88.24857 40.14910, -88.24412 40.149...</td>\n",
       "    </tr>\n",
       "    <tr>\n",
       "      <th>1</th>\n",
       "      <td>17</td>\n",
       "      <td>019</td>\n",
       "      <td>010604</td>\n",
       "      <td>2</td>\n",
       "      <td>170190106042</td>\n",
       "      <td>1500000US170190106042</td>\n",
       "      <td>Block Group 2</td>\n",
       "      <td>G5030</td>\n",
       "      <td>S</td>\n",
       "      <td>106818681</td>\n",
       "      <td>3293</td>\n",
       "      <td>+40.1040759</td>\n",
       "      <td>-088.3977812</td>\n",
       "      <td>POLYGON ((-88.46336 40.12850, -88.46333 40.13158, -88.46332 40.13279, -88.46328 40.13498, -88.46327 40.13501, -88.46327 40.13503, -88.46327 40.135...</td>\n",
       "    </tr>\n",
       "  </tbody>\n",
       "</table>\n",
       "</div>"
      ],
      "text/plain": [
       "  STATEFP COUNTYFP TRACTCE BLKGRPCE         GEOID                GEOIDFQ  \\\n",
       "0      17      019  000800        1  170190008001  1500000US170190008001   \n",
       "1      17      019  010604        2  170190106042  1500000US170190106042   \n",
       "\n",
       "        NAMELSAD  MTFCC FUNCSTAT      ALAND  AWATER     INTPTLAT  \\\n",
       "0  Block Group 1  G5030        S    2551949      24  +40.1440140   \n",
       "1  Block Group 2  G5030        S  106818681    3293  +40.1040759   \n",
       "\n",
       "       INTPTLON  \\\n",
       "0  -088.2485074   \n",
       "1  -088.3977812   \n",
       "\n",
       "                                                                                                                                                geometry  \n",
       "0  POLYGON ((-88.25801 40.14907, -88.25226 40.14911, -88.25202 40.14911, -88.25154 40.14915, -88.25105 40.14911, -88.24857 40.14910, -88.24412 40.149...  \n",
       "1  POLYGON ((-88.46336 40.12850, -88.46333 40.13158, -88.46332 40.13279, -88.46328 40.13498, -88.46327 40.13501, -88.46327 40.13503, -88.46327 40.135...  "
      ]
     },
     "execution_count": 19,
     "metadata": {},
     "output_type": "execute_result"
    }
   ],
   "source": [
    "print(bg_gdf.shape)\n",
    "bg_gdf.head(2)"
   ]
  },
  {
   "cell_type": "code",
   "execution_count": 22,
   "id": "b8711f53-ae9c-4c64-989c-256960afc4da",
   "metadata": {},
   "outputs": [],
   "source": [
    "block_file_path = DATA_DIR.joinpath(\"tl_2023_17_tabblock20.zip\")\n",
    "download_file(\n",
    "    url=\"https://www2.census.gov/geo/tiger/TIGER2023/TABBLOCK20/tl_2023_17_tabblock20.zip\",\n",
    "    file_path=block_file_path,\n",
    ")"
   ]
  },
  {
   "cell_type": "code",
   "execution_count": 23,
   "id": "f0de26d5-e863-49d4-9312-41d0a985893d",
   "metadata": {},
   "outputs": [],
   "source": [
    "block_gdf = gpd.read_file(block_file_path)"
   ]
  },
  {
   "cell_type": "code",
   "execution_count": 24,
   "id": "08942d15-937a-4b76-b5f1-b1cf7cdf3508",
   "metadata": {},
   "outputs": [
    {
     "data": {
      "text/plain": [
       "<Geographic 2D CRS: EPSG:4269>\n",
       "Name: NAD83\n",
       "Axis Info [ellipsoidal]:\n",
       "- Lat[north]: Geodetic latitude (degree)\n",
       "- Lon[east]: Geodetic longitude (degree)\n",
       "Area of Use:\n",
       "- name: North America - onshore and offshore: Canada - Alberta; British Columbia; Manitoba; New Brunswick; Newfoundland and Labrador; Northwest Territories; Nova Scotia; Nunavut; Ontario; Prince Edward Island; Quebec; Saskatchewan; Yukon. Puerto Rico. United States (USA) - Alabama; Alaska; Arizona; Arkansas; California; Colorado; Connecticut; Delaware; Florida; Georgia; Hawaii; Idaho; Illinois; Indiana; Iowa; Kansas; Kentucky; Louisiana; Maine; Maryland; Massachusetts; Michigan; Minnesota; Mississippi; Missouri; Montana; Nebraska; Nevada; New Hampshire; New Jersey; New Mexico; New York; North Carolina; North Dakota; Ohio; Oklahoma; Oregon; Pennsylvania; Rhode Island; South Carolina; South Dakota; Tennessee; Texas; Utah; Vermont; Virginia; Washington; West Virginia; Wisconsin; Wyoming. US Virgin Islands. British Virgin Islands.\n",
       "- bounds: (167.65, 14.92, -40.73, 86.45)\n",
       "Datum: North American Datum 1983\n",
       "- Ellipsoid: GRS 1980\n",
       "- Prime Meridian: Greenwich"
      ]
     },
     "execution_count": 24,
     "metadata": {},
     "output_type": "execute_result"
    }
   ],
   "source": [
    "block_gdf.crs"
   ]
  },
  {
   "cell_type": "code",
   "execution_count": 25,
   "id": "d2d7038f-df26-420d-aecc-2e13b905a3be",
   "metadata": {},
   "outputs": [
    {
     "name": "stdout",
     "output_type": "stream",
     "text": [
      "(369978, 18)\n"
     ]
    },
    {
     "data": {
      "text/html": [
       "<div>\n",
       "<style scoped>\n",
       "    .dataframe tbody tr th:only-of-type {\n",
       "        vertical-align: middle;\n",
       "    }\n",
       "\n",
       "    .dataframe tbody tr th {\n",
       "        vertical-align: top;\n",
       "    }\n",
       "\n",
       "    .dataframe thead th {\n",
       "        text-align: right;\n",
       "    }\n",
       "</style>\n",
       "<table border=\"1\" class=\"dataframe\">\n",
       "  <thead>\n",
       "    <tr style=\"text-align: right;\">\n",
       "      <th></th>\n",
       "      <th>STATEFP20</th>\n",
       "      <th>COUNTYFP20</th>\n",
       "      <th>TRACTCE20</th>\n",
       "      <th>BLOCKCE20</th>\n",
       "      <th>GEOID20</th>\n",
       "      <th>GEOIDFQ20</th>\n",
       "      <th>NAME20</th>\n",
       "      <th>MTFCC20</th>\n",
       "      <th>UR20</th>\n",
       "      <th>UACE20</th>\n",
       "      <th>FUNCSTAT20</th>\n",
       "      <th>ALAND20</th>\n",
       "      <th>AWATER20</th>\n",
       "      <th>INTPTLAT20</th>\n",
       "      <th>INTPTLON20</th>\n",
       "      <th>HOUSING20</th>\n",
       "      <th>POP20</th>\n",
       "      <th>geometry</th>\n",
       "    </tr>\n",
       "  </thead>\n",
       "  <tbody>\n",
       "    <tr>\n",
       "      <th>0</th>\n",
       "      <td>17</td>\n",
       "      <td>039</td>\n",
       "      <td>971800</td>\n",
       "      <td>1037</td>\n",
       "      <td>170399718001037</td>\n",
       "      <td>1010000US170399718001037</td>\n",
       "      <td>Block1037</td>\n",
       "      <td>G5040</td>\n",
       "      <td>U</td>\n",
       "      <td>17884</td>\n",
       "      <td>S</td>\n",
       "      <td>17573</td>\n",
       "      <td>0</td>\n",
       "      <td>+40.1415409</td>\n",
       "      <td>-088.9640653</td>\n",
       "      <td>10</td>\n",
       "      <td>25</td>\n",
       "      <td>POLYGON ((-88.96460 40.14094, -88.96457 40.14137, -88.96455 40.14202, -88.96455 40.14228, -88.96456 40.14245, -88.96426 40.14244, -88.96397 40.142...</td>\n",
       "    </tr>\n",
       "    <tr>\n",
       "      <th>1</th>\n",
       "      <td>17</td>\n",
       "      <td>039</td>\n",
       "      <td>971700</td>\n",
       "      <td>3065</td>\n",
       "      <td>170399717003065</td>\n",
       "      <td>1010000US170399717003065</td>\n",
       "      <td>Block3065</td>\n",
       "      <td>G5040</td>\n",
       "      <td>U</td>\n",
       "      <td>17884</td>\n",
       "      <td>S</td>\n",
       "      <td>36121</td>\n",
       "      <td>0</td>\n",
       "      <td>+40.1408879</td>\n",
       "      <td>-088.9661442</td>\n",
       "      <td>21</td>\n",
       "      <td>43</td>\n",
       "      <td>POLYGON ((-88.96745 40.14088, -88.96718 40.14088, -88.96689 40.14088, -88.96675 40.14088, -88.96668 40.14091, -88.96652 40.14107, -88.96648 40.141...</td>\n",
       "    </tr>\n",
       "  </tbody>\n",
       "</table>\n",
       "</div>"
      ],
      "text/plain": [
       "  STATEFP20 COUNTYFP20 TRACTCE20 BLOCKCE20          GEOID20  \\\n",
       "0        17        039    971800      1037  170399718001037   \n",
       "1        17        039    971700      3065  170399717003065   \n",
       "\n",
       "                  GEOIDFQ20     NAME20 MTFCC20 UR20 UACE20 FUNCSTAT20  \\\n",
       "0  1010000US170399718001037  Block1037   G5040    U  17884          S   \n",
       "1  1010000US170399717003065  Block3065   G5040    U  17884          S   \n",
       "\n",
       "   ALAND20  AWATER20   INTPTLAT20    INTPTLON20  HOUSING20  POP20  \\\n",
       "0    17573         0  +40.1415409  -088.9640653         10     25   \n",
       "1    36121         0  +40.1408879  -088.9661442         21     43   \n",
       "\n",
       "                                                                                                                                                geometry  \n",
       "0  POLYGON ((-88.96460 40.14094, -88.96457 40.14137, -88.96455 40.14202, -88.96455 40.14228, -88.96456 40.14245, -88.96426 40.14244, -88.96397 40.142...  \n",
       "1  POLYGON ((-88.96745 40.14088, -88.96718 40.14088, -88.96689 40.14088, -88.96675 40.14088, -88.96668 40.14091, -88.96652 40.14107, -88.96648 40.141...  "
      ]
     },
     "execution_count": 25,
     "metadata": {},
     "output_type": "execute_result"
    }
   ],
   "source": [
    "print(block_gdf.shape)\n",
    "block_gdf.head(2)"
   ]
  },
  {
   "cell_type": "code",
   "execution_count": 31,
   "id": "2a9ec70a-5ecd-4700-ac7c-6acfa26809c5",
   "metadata": {},
   "outputs": [
    {
     "data": {
      "text/html": [
       "<div>\n",
       "<style scoped>\n",
       "    .dataframe tbody tr th:only-of-type {\n",
       "        vertical-align: middle;\n",
       "    }\n",
       "\n",
       "    .dataframe tbody tr th {\n",
       "        vertical-align: top;\n",
       "    }\n",
       "\n",
       "    .dataframe thead th {\n",
       "        text-align: right;\n",
       "    }\n",
       "</style>\n",
       "<table border=\"1\" class=\"dataframe\">\n",
       "  <thead>\n",
       "    <tr style=\"text-align: right;\">\n",
       "      <th></th>\n",
       "      <th>GEOID20</th>\n",
       "      <th>INTPTLAT20</th>\n",
       "      <th>INTPTLON20</th>\n",
       "      <th>HOUSING20</th>\n",
       "      <th>POP20</th>\n",
       "      <th>geometry</th>\n",
       "    </tr>\n",
       "  </thead>\n",
       "  <tbody>\n",
       "    <tr>\n",
       "      <th>0</th>\n",
       "      <td>170399718001037</td>\n",
       "      <td>+40.1415409</td>\n",
       "      <td>-088.9640653</td>\n",
       "      <td>10</td>\n",
       "      <td>25</td>\n",
       "      <td>POLYGON ((-88.96460 40.14094, -88.96457 40.14137, -88.96455 40.14202, -88.96455 40.14228, -88.96456 40.14245, -88.96426 40.14244, -88.96397 40.142...</td>\n",
       "    </tr>\n",
       "    <tr>\n",
       "      <th>1</th>\n",
       "      <td>170399717003065</td>\n",
       "      <td>+40.1408879</td>\n",
       "      <td>-088.9661442</td>\n",
       "      <td>21</td>\n",
       "      <td>43</td>\n",
       "      <td>POLYGON ((-88.96745 40.14088, -88.96718 40.14088, -88.96689 40.14088, -88.96675 40.14088, -88.96668 40.14091, -88.96652 40.14107, -88.96648 40.141...</td>\n",
       "    </tr>\n",
       "  </tbody>\n",
       "</table>\n",
       "</div>"
      ],
      "text/plain": [
       "           GEOID20   INTPTLAT20    INTPTLON20  HOUSING20  POP20  \\\n",
       "0  170399718001037  +40.1415409  -088.9640653         10     25   \n",
       "1  170399717003065  +40.1408879  -088.9661442         21     43   \n",
       "\n",
       "                                                                                                                                                geometry  \n",
       "0  POLYGON ((-88.96460 40.14094, -88.96457 40.14137, -88.96455 40.14202, -88.96455 40.14228, -88.96456 40.14245, -88.96426 40.14244, -88.96397 40.142...  \n",
       "1  POLYGON ((-88.96745 40.14088, -88.96718 40.14088, -88.96689 40.14088, -88.96675 40.14088, -88.96668 40.14091, -88.96652 40.14107, -88.96648 40.141...  "
      ]
     },
     "execution_count": 31,
     "metadata": {},
     "output_type": "execute_result"
    }
   ],
   "source": [
    "block_gdf[[\n",
    "    \"GEOID20\", \"INTPTLAT20\", \"INTPTLON20\", \"HOUSING20\", \"POP20\", \"geometry\"\n",
    "]].head(2)"
   ]
  },
  {
   "cell_type": "code",
   "execution_count": 21,
   "id": "95d199cf-97c7-4bc9-8baf-5ca77cc76aaa",
   "metadata": {},
   "outputs": [
    {
     "data": {
      "text/plain": [
       "GEOID\n",
       "12    9898\n",
       "Name: count, dtype: int64"
      ]
     },
     "execution_count": 21,
     "metadata": {},
     "output_type": "execute_result"
    }
   ],
   "source": [
    "bg_gdf[\"GEOID\"].str.len().value_counts(dropna=False)"
   ]
  },
  {
   "cell_type": "code",
   "execution_count": 26,
   "id": "db875b73-e080-49a9-9a04-d4ba0a11cfb9",
   "metadata": {},
   "outputs": [
    {
     "data": {
      "text/plain": [
       "GEOID20\n",
       "15    369978\n",
       "Name: count, dtype: int64"
      ]
     },
     "execution_count": 26,
     "metadata": {},
     "output_type": "execute_result"
    }
   ],
   "source": [
    "block_gdf[\"GEOID20\"].str.len().value_counts(dropna=False)"
   ]
  },
  {
   "cell_type": "code",
   "execution_count": 28,
   "id": "d99ed7d2-5c35-46f9-afa8-c243a7463132",
   "metadata": {},
   "outputs": [
    {
     "data": {
      "text/plain": [
       "block_geoid\n",
       "15    2178534\n",
       "Name: count, dtype: int64"
      ]
     },
     "execution_count": 28,
     "metadata": {},
     "output_type": "execute_result"
    }
   ],
   "source": [
    "bdc_fiber_df[\"block_geoid\"].astype(str).str.len().value_counts(dropna=False)"
   ]
  },
  {
   "cell_type": "code",
   "execution_count": 33,
   "id": "ec6d660e-33f3-4cfb-b200-ead30348378f",
   "metadata": {},
   "outputs": [],
   "source": [
    "blk_gdf = block_gdf[[\n",
    "    \"GEOID20\", \"INTPTLAT20\", \"INTPTLON20\", \"HOUSING20\", \"POP20\", \"geometry\"\n",
    "]].copy()"
   ]
  },
  {
   "cell_type": "code",
   "execution_count": 32,
   "id": "836bd209-b077-499c-be3f-34d634c3e0bd",
   "metadata": {},
   "outputs": [
    {
     "data": {
      "text/html": [
       "<div>\n",
       "<style scoped>\n",
       "    .dataframe tbody tr th:only-of-type {\n",
       "        vertical-align: middle;\n",
       "    }\n",
       "\n",
       "    .dataframe tbody tr th {\n",
       "        vertical-align: top;\n",
       "    }\n",
       "\n",
       "    .dataframe thead th {\n",
       "        text-align: right;\n",
       "    }\n",
       "</style>\n",
       "<table border=\"1\" class=\"dataframe\">\n",
       "  <thead>\n",
       "    <tr style=\"text-align: right;\">\n",
       "      <th></th>\n",
       "      <th>frn</th>\n",
       "      <th>provider_id</th>\n",
       "      <th>brand_name</th>\n",
       "      <th>location_id</th>\n",
       "      <th>technology</th>\n",
       "      <th>max_advertised_download_speed</th>\n",
       "      <th>max_advertised_upload_speed</th>\n",
       "      <th>low_latency</th>\n",
       "      <th>business_residential_code</th>\n",
       "      <th>state_usps</th>\n",
       "      <th>block_geoid</th>\n",
       "      <th>h3_res8_id</th>\n",
       "    </tr>\n",
       "  </thead>\n",
       "  <tbody>\n",
       "    <tr>\n",
       "      <th>0</th>\n",
       "      <td>2860856</td>\n",
       "      <td>130077</td>\n",
       "      <td>AT&amp;T Inc</td>\n",
       "      <td>1015499874</td>\n",
       "      <td>50</td>\n",
       "      <td>5000</td>\n",
       "      <td>5000</td>\n",
       "      <td>1</td>\n",
       "      <td>X</td>\n",
       "      <td>IL</td>\n",
       "      <td>171978835043042</td>\n",
       "      <td>8826644eebfffff</td>\n",
       "    </tr>\n",
       "  </tbody>\n",
       "</table>\n",
       "</div>"
      ],
      "text/plain": [
       "       frn  provider_id brand_name  location_id  technology  \\\n",
       "0  2860856       130077   AT&T Inc   1015499874          50   \n",
       "\n",
       "   max_advertised_download_speed  max_advertised_upload_speed  low_latency  \\\n",
       "0                           5000                         5000            1   \n",
       "\n",
       "  business_residential_code state_usps      block_geoid       h3_res8_id  \n",
       "0                         X         IL  171978835043042  8826644eebfffff  "
      ]
     },
     "execution_count": 32,
     "metadata": {},
     "output_type": "execute_result"
    }
   ],
   "source": [
    "bdc_fiber_df.head(1)"
   ]
  },
  {
   "cell_type": "code",
   "execution_count": 36,
   "id": "77db6523-8c18-4524-b7de-85fb54b82c0b",
   "metadata": {},
   "outputs": [],
   "source": [
    "blk_gdf[\"GEOID20\"] = blk_gdf[\"GEOID20\"].astype(str)\n",
    "bdc_fiber_df[\"block_geoid\"] = bdc_fiber_df[\"block_geoid\"].astype(str)\n",
    "\n",
    "bdc_fiber_gdf = pd.merge(\n",
    "    left=bdc_fiber_df,\n",
    "    right=blk_gdf,\n",
    "    how=\"left\",\n",
    "    left_on=\"block_geoid\",\n",
    "    right_on=\"GEOID20\"\n",
    ")"
   ]
  },
  {
   "cell_type": "code",
   "execution_count": 41,
   "id": "b103b74d-5396-4d11-887b-3f695803c39b",
   "metadata": {},
   "outputs": [],
   "source": [
    "bdc_fiber_gdf = gpd.GeoDataFrame(bdc_fiber_gdf)"
   ]
  },
  {
   "cell_type": "code",
   "execution_count": 37,
   "id": "ff12ce78-6a87-4f85-90f8-8ef29ccc7a0f",
   "metadata": {},
   "outputs": [
    {
     "name": "stdout",
     "output_type": "stream",
     "text": [
      "(2178534, 18)\n"
     ]
    },
    {
     "data": {
      "text/html": [
       "<div>\n",
       "<style scoped>\n",
       "    .dataframe tbody tr th:only-of-type {\n",
       "        vertical-align: middle;\n",
       "    }\n",
       "\n",
       "    .dataframe tbody tr th {\n",
       "        vertical-align: top;\n",
       "    }\n",
       "\n",
       "    .dataframe thead th {\n",
       "        text-align: right;\n",
       "    }\n",
       "</style>\n",
       "<table border=\"1\" class=\"dataframe\">\n",
       "  <thead>\n",
       "    <tr style=\"text-align: right;\">\n",
       "      <th></th>\n",
       "      <th>frn</th>\n",
       "      <th>provider_id</th>\n",
       "      <th>brand_name</th>\n",
       "      <th>location_id</th>\n",
       "      <th>technology</th>\n",
       "      <th>max_advertised_download_speed</th>\n",
       "      <th>max_advertised_upload_speed</th>\n",
       "      <th>low_latency</th>\n",
       "      <th>business_residential_code</th>\n",
       "      <th>state_usps</th>\n",
       "      <th>block_geoid</th>\n",
       "      <th>h3_res8_id</th>\n",
       "      <th>GEOID20</th>\n",
       "      <th>INTPTLAT20</th>\n",
       "      <th>INTPTLON20</th>\n",
       "      <th>HOUSING20</th>\n",
       "      <th>POP20</th>\n",
       "      <th>geometry</th>\n",
       "    </tr>\n",
       "  </thead>\n",
       "  <tbody>\n",
       "    <tr>\n",
       "      <th>0</th>\n",
       "      <td>2860856</td>\n",
       "      <td>130077</td>\n",
       "      <td>AT&amp;T Inc</td>\n",
       "      <td>1015499874</td>\n",
       "      <td>50</td>\n",
       "      <td>5000</td>\n",
       "      <td>5000</td>\n",
       "      <td>1</td>\n",
       "      <td>X</td>\n",
       "      <td>IL</td>\n",
       "      <td>171978835043042</td>\n",
       "      <td>8826644eebfffff</td>\n",
       "      <td>171978835043042</td>\n",
       "      <td>+41.4746577</td>\n",
       "      <td>-087.8788975</td>\n",
       "      <td>19</td>\n",
       "      <td>22</td>\n",
       "      <td>POLYGON ((-87.87985 41.47400, -87.87973 41.47424, -87.87962 41.47439, -87.87884 41.47552, -87.87880 41.47557, -87.87875 41.47564, -87.87865 41.475...</td>\n",
       "    </tr>\n",
       "    <tr>\n",
       "      <th>1</th>\n",
       "      <td>2860856</td>\n",
       "      <td>130077</td>\n",
       "      <td>AT&amp;T Inc</td>\n",
       "      <td>1015570673</td>\n",
       "      <td>50</td>\n",
       "      <td>1000</td>\n",
       "      <td>1000</td>\n",
       "      <td>1</td>\n",
       "      <td>X</td>\n",
       "      <td>IL</td>\n",
       "      <td>171978810092011</td>\n",
       "      <td>8826644ac5fffff</td>\n",
       "      <td>171978810092011</td>\n",
       "      <td>+41.5882042</td>\n",
       "      <td>-088.0119402</td>\n",
       "      <td>30</td>\n",
       "      <td>96</td>\n",
       "      <td>POLYGON ((-88.01390 41.58876, -88.01384 41.58890, -88.01376 41.58896, -88.01314 41.58894, -88.01282 41.58894, -88.01280 41.58879, -88.01276 41.588...</td>\n",
       "    </tr>\n",
       "  </tbody>\n",
       "</table>\n",
       "</div>"
      ],
      "text/plain": [
       "       frn  provider_id brand_name  location_id  technology  \\\n",
       "0  2860856       130077   AT&T Inc   1015499874          50   \n",
       "1  2860856       130077   AT&T Inc   1015570673          50   \n",
       "\n",
       "   max_advertised_download_speed  max_advertised_upload_speed  low_latency  \\\n",
       "0                           5000                         5000            1   \n",
       "1                           1000                         1000            1   \n",
       "\n",
       "  business_residential_code state_usps      block_geoid       h3_res8_id  \\\n",
       "0                         X         IL  171978835043042  8826644eebfffff   \n",
       "1                         X         IL  171978810092011  8826644ac5fffff   \n",
       "\n",
       "           GEOID20   INTPTLAT20    INTPTLON20  HOUSING20  POP20  \\\n",
       "0  171978835043042  +41.4746577  -087.8788975         19     22   \n",
       "1  171978810092011  +41.5882042  -088.0119402         30     96   \n",
       "\n",
       "                                                                                                                                                geometry  \n",
       "0  POLYGON ((-87.87985 41.47400, -87.87973 41.47424, -87.87962 41.47439, -87.87884 41.47552, -87.87880 41.47557, -87.87875 41.47564, -87.87865 41.475...  \n",
       "1  POLYGON ((-88.01390 41.58876, -88.01384 41.58890, -88.01376 41.58896, -88.01314 41.58894, -88.01282 41.58894, -88.01280 41.58879, -88.01276 41.588...  "
      ]
     },
     "execution_count": 37,
     "metadata": {},
     "output_type": "execute_result"
    }
   ],
   "source": [
    "print(bdc_fiber_gdf.shape)\n",
    "bdc_fiber_gdf.head(2)"
   ]
  },
  {
   "cell_type": "code",
   "execution_count": 38,
   "id": "629833d3-e9b3-4e49-8b57-cebf25915037",
   "metadata": {},
   "outputs": [
    {
     "data": {
      "text/plain": [
       "0"
      ]
     },
     "execution_count": 38,
     "metadata": {},
     "output_type": "execute_result"
    }
   ],
   "source": [
    "bdc_fiber_gdf[\"geometry\"].isnull().sum()"
   ]
  },
  {
   "cell_type": "code",
   "execution_count": 45,
   "id": "10b1fc9e-5d27-4337-97af-3cc2ddd6116a",
   "metadata": {},
   "outputs": [
    {
     "data": {
      "text/plain": [
       "brand_name\n",
       "AT&T Inc                                      505489\n",
       "Stratus Networks, Inc.                        495689\n",
       "Metronet Holdings                             370896\n",
       "Everstream                                    178730\n",
       "i3 Broadband                                  130105\n",
       "Astound_Broadband                              74257\n",
       "FRONTIER                                       30506\n",
       "Cass Cable TV INC                              26722\n",
       "Adams Telsystems Inc.                          25412\n",
       "Wabash Communications                          25262\n",
       "Mid Century Telephone Cooperative, Inc.        21167\n",
       "Surf Internet                                  20657\n",
       "Pavlov Media                                   20470\n",
       "Geneseo Communications Services, Inc.          19986\n",
       "Conxxus                                        19011\n",
       "Fidium                                         17268\n",
       "Computer Techniques, Inc.                      16590\n",
       "McDonough Telephone Cooperative Inc            16304\n",
       "Bluebird Network LLC                           12166\n",
       "Jo-Carroll Energy, Inc. (NFP)                  12121\n",
       "Futiva                                         12102\n",
       "digiMax                                        10358\n",
       "Xfinity                                         8149\n",
       "Adams Telephone Co-Operative                    5441\n",
       "ShawneeLEC                                      5225\n",
       "Geneseo Telephone Company                       5052\n",
       "Madison Communications                          4823\n",
       "Illinois Fiber Connect, LLC                     4572\n",
       "Cambridge Telcom Services, Inc.                 4021\n",
       "IVNet                                           4001\n",
       "Highland Communication Services                 3944\n",
       "HeartlandFiber                                  3708\n",
       "Shawnee Telephone Company                       3707\n",
       "Strada Communications                           3599\n",
       "Illinois Net                                    3412\n",
       "UPN                                             3302\n",
       "Volo.net Internet + Technology                  3263\n",
       "LogonixCorporation                              3150\n",
       "Harrisonville Telephone Company                 3080\n",
       "Royell Communications, Inc                      2914\n",
       "Charter Communications Inc                      2683\n",
       "4 SIWI LLC                                      2252\n",
       "EGYPTIAN TELEPHONE COOPERATIVE ASSOCIATION      2001\n",
       "ProTek Fiber                                    1973\n",
       "Cass Telephone Company                          1884\n",
       "Grafton Technologies, Inc.                      1538\n",
       "Alhambra-Grantfork Telephone Company            1497\n",
       "LaHarpe Telephone Company                       1345\n",
       "Home Telephone                                  1342\n",
       "Allpoint NetworX, Inc.                          1276\n",
       "Name: count, dtype: int64"
      ]
     },
     "execution_count": 45,
     "metadata": {},
     "output_type": "execute_result"
    }
   ],
   "source": [
    "query = bdc_fiber_gdf[\"brand_name\"].value_counts(dropna=False)\n",
    "query[:50]"
   ]
  },
  {
   "cell_type": "code",
   "execution_count": null,
   "id": "e24fcb1f-3f5e-49ec-89bb-0f3908291a39",
   "metadata": {},
   "outputs": [],
   "source": [
    "bdc_fiber_gdf.dissolve(by=\"brand_name\")"
   ]
  },
  {
   "cell_type": "code",
   "execution_count": 40,
   "id": "e167215c-2d80-4da2-a8e9-2315daa9b627",
   "metadata": {},
   "outputs": [
    {
     "data": {
      "text/plain": [
       "pandas.core.frame.DataFrame"
      ]
     },
     "execution_count": 40,
     "metadata": {},
     "output_type": "execute_result"
    }
   ],
   "source": [
    "type(bdc_fiber_gdf)"
   ]
  },
  {
   "cell_type": "code",
   "execution_count": 48,
   "id": "8255082f-0a75-4fa1-aa63-8eb20a134349",
   "metadata": {},
   "outputs": [
    {
     "data": {
      "image/png": "[encoded data removed]",
      "text/plain": [
       "<Figure size 1500x1500 with 1 Axes>"
      ]
     },
     "metadata": {},
     "output_type": "display_data"
    }
   ],
   "source": [
    "fig_width = 15\n",
    "brand_name = \"Xfinity\"\n",
    "\n",
    "plot_gdf = bdc_fiber_gdf.loc[bdc_fiber_gdf[\"brand_name\"] == brand_name].copy()\n",
    "\n",
    "fig, ax = plt.subplots(figsize=(fig_width, fig_width))\n",
    "ax = plot_gdf.plot(facecolor=\"none\", linewidth=0.01*fig_width, ax=ax)"
   ]
  },
  {
   "cell_type": "code",
   "execution_count": null,
   "id": "09077f27-9668-4876-a6cc-ecae27b3878f",
   "metadata": {},
   "outputs": [],
   "source": []
  },
  {
   "cell_type": "code",
   "execution_count": null,
   "id": "7c3f9e0e-6eec-434b-9da9-42c28abc8728",
   "metadata": {},
   "outputs": [],
   "source": []
  },
  {
   "cell_type": "code",
   "execution_count": null,
   "id": "ad59c9e5-3d48-43df-9a9d-1c5c8d0d5214",
   "metadata": {},
   "outputs": [],
   "source": []
  },
  {
   "cell_type": "code",
   "execution_count": null,
   "id": "429521fd-4da5-45b1-b89c-203497929172",
   "metadata": {},
   "outputs": [],
   "source": []
  },
  {
   "cell_type": "code",
   "execution_count": null,
   "id": "1d6c75e3-bc5b-4fcf-9dbf-d03206127b70",
   "metadata": {},
   "outputs": [],
   "source": []
  },
  {
   "cell_type": "code",
   "execution_count": null,
   "id": "6c477a9c-d419-4cae-b741-1696cd2ec811",
   "metadata": {},
   "outputs": [],
   "source": []
  }
 ],
 "metadata": {
  "kernelspec": {
   "display_name": "(geo_env)",
   "language": "python",
   "name": "geo_env"
  },
  "language_info": {
   "codemirror_mode": {
    "name": "ipython",
    "version": 3
   },
   "file_extension": ".py",
   "mimetype": "text/x-python",
   "name": "python",
   "nbconvert_exporter": "python",
   "pygments_lexer": "ipython3",
   "version": "3.11.6"
  }
 },
 "nbformat": 4,
 "nbformat_minor": 5
}
